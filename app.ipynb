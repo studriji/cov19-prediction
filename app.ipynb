{
 "cells": [
  {
   "cell_type": "code",
   "execution_count": 1,
   "metadata": {},
   "outputs": [],
   "source": [
    "#from selenium import webdriver\n",
    "import time\n",
    "import pandas as pd\n",
    "import requests\n",
    "import json\n",
    "from sklearn.model_selection import train_test_split\n",
    "from xgboost import XGBRegressor\n",
    "import seaborn as sns\n",
    "import ipywidgets as widgets\n",
    "from IPython.display import display,clear_output,HTML\n"
   ]
  },
  {
   "cell_type": "code",
   "execution_count": 2,
   "metadata": {},
   "outputs": [],
   "source": [
    "import warnings;\n",
    "warnings.simplefilter('ignore')"
   ]
  },
  {
   "cell_type": "code",
   "execution_count": 3,
   "metadata": {},
   "outputs": [],
   "source": [
    "#path=r'C:\\Users\\hp\\Downloads\\chromedriver_win32 (1)\\chromedriver.exe'\n",
    "#browser=webdriver.Chrome(executable_path=path)"
   ]
  },
  {
   "cell_type": "code",
   "execution_count": 4,
   "metadata": {},
   "outputs": [],
   "source": [
    "#browser.get('https://data.covid19india.org/')"
   ]
  },
  {
   "cell_type": "code",
   "execution_count": 5,
   "metadata": {},
   "outputs": [],
   "source": [
    "#data=browser.find_element_by_xpath('/html/body/div/table[1]/tbody/tr[1]/td[2]/a')"
   ]
  },
  {
   "cell_type": "code",
   "execution_count": 6,
   "metadata": {},
   "outputs": [],
   "source": [
    "#data.click()"
   ]
  },
  {
   "cell_type": "code",
   "execution_count": 7,
   "metadata": {},
   "outputs": [],
   "source": [
    "#time.sleep(10)"
   ]
  },
  {
   "cell_type": "code",
   "execution_count": 8,
   "metadata": {},
   "outputs": [],
   "source": [
    "r=requests.get('https://data.covid19india.org/v4/min/timeseries.min.json')\n",
    "\n"
   ]
  },
  {
   "cell_type": "code",
   "execution_count": 9,
   "metadata": {},
   "outputs": [],
   "source": [
    "column_name=['dates','total_confirmed','total deceased']\n",
    "Df=pd.DataFrame(columns=column_name)\n",
    "#Df\n",
    "column_name=['dates','total_confirmed','total deceased']\n",
    "D_frame=pd.DataFrame(columns=column_name)\n",
    "#D_frame"
   ]
  },
  {
   "cell_type": "code",
   "execution_count": 10,
   "metadata": {},
   "outputs": [
    {
     "data": {
      "text/html": [
       "<h1><center>COVID 19 PREDICTION FOR FUTURE DAYS</center></h1>"
      ],
      "text/plain": [
       "<IPython.core.display.HTML object>"
      ]
     },
     "metadata": {},
     "output_type": "display_data"
    },
    {
     "data": {
      "text/html": [
       "<div>\n",
       "<style scoped>\n",
       "    .dataframe tbody tr th:only-of-type {\n",
       "        vertical-align: middle;\n",
       "    }\n",
       "\n",
       "    .dataframe tbody tr th {\n",
       "        vertical-align: top;\n",
       "    }\n",
       "\n",
       "    .dataframe thead th {\n",
       "        text-align: right;\n",
       "    }\n",
       "</style>\n",
       "<table border=\"1\" class=\"dataframe\">\n",
       "  <thead>\n",
       "    <tr style=\"text-align: right;\">\n",
       "      <th></th>\n",
       "      <th>Abbreviation</th>\n",
       "      <th>State</th>\n",
       "    </tr>\n",
       "  </thead>\n",
       "  <tbody>\n",
       "    <tr>\n",
       "      <th>0</th>\n",
       "      <td>AN</td>\n",
       "      <td>Andaman and Nicobar Islands</td>\n",
       "    </tr>\n",
       "    <tr>\n",
       "      <th>1</th>\n",
       "      <td>AP</td>\n",
       "      <td>Andhra Pradesh</td>\n",
       "    </tr>\n",
       "    <tr>\n",
       "      <th>2</th>\n",
       "      <td>AR</td>\n",
       "      <td>Arunachal Pradesh</td>\n",
       "    </tr>\n",
       "    <tr>\n",
       "      <th>3</th>\n",
       "      <td>AS</td>\n",
       "      <td>Assam</td>\n",
       "    </tr>\n",
       "    <tr>\n",
       "      <th>4</th>\n",
       "      <td>BR</td>\n",
       "      <td>Bihar</td>\n",
       "    </tr>\n",
       "    <tr>\n",
       "      <th>5</th>\n",
       "      <td>CH</td>\n",
       "      <td>Chandigarh</td>\n",
       "    </tr>\n",
       "    <tr>\n",
       "      <th>6</th>\n",
       "      <td>CT</td>\n",
       "      <td>Chattisgarh</td>\n",
       "    </tr>\n",
       "    <tr>\n",
       "      <th>7</th>\n",
       "      <td>DN</td>\n",
       "      <td>Dadea and Nagar Haveli</td>\n",
       "    </tr>\n",
       "    <tr>\n",
       "      <th>8</th>\n",
       "      <td>DD</td>\n",
       "      <td>Daman and Diu</td>\n",
       "    </tr>\n",
       "    <tr>\n",
       "      <th>9</th>\n",
       "      <td>DL</td>\n",
       "      <td>Delhi</td>\n",
       "    </tr>\n",
       "    <tr>\n",
       "      <th>10</th>\n",
       "      <td>GA</td>\n",
       "      <td>Goa</td>\n",
       "    </tr>\n",
       "    <tr>\n",
       "      <th>11</th>\n",
       "      <td>GJ</td>\n",
       "      <td>Gujarat</td>\n",
       "    </tr>\n",
       "    <tr>\n",
       "      <th>12</th>\n",
       "      <td>HR</td>\n",
       "      <td>Haryana</td>\n",
       "    </tr>\n",
       "    <tr>\n",
       "      <th>13</th>\n",
       "      <td>HP</td>\n",
       "      <td>Himachal Pradesh</td>\n",
       "    </tr>\n",
       "    <tr>\n",
       "      <th>14</th>\n",
       "      <td>JK</td>\n",
       "      <td>Jammu and Kashmir</td>\n",
       "    </tr>\n",
       "    <tr>\n",
       "      <th>15</th>\n",
       "      <td>JH</td>\n",
       "      <td>Jharkhand</td>\n",
       "    </tr>\n",
       "    <tr>\n",
       "      <th>16</th>\n",
       "      <td>KA</td>\n",
       "      <td>Karnataka</td>\n",
       "    </tr>\n",
       "    <tr>\n",
       "      <th>17</th>\n",
       "      <td>KL</td>\n",
       "      <td>Kerala</td>\n",
       "    </tr>\n",
       "    <tr>\n",
       "      <th>18</th>\n",
       "      <td>LD</td>\n",
       "      <td>Lakshadweep</td>\n",
       "    </tr>\n",
       "    <tr>\n",
       "      <th>19</th>\n",
       "      <td>MP</td>\n",
       "      <td>Madhya Pradesh</td>\n",
       "    </tr>\n",
       "    <tr>\n",
       "      <th>20</th>\n",
       "      <td>MH</td>\n",
       "      <td>Maharashtra</td>\n",
       "    </tr>\n",
       "    <tr>\n",
       "      <th>21</th>\n",
       "      <td>MN</td>\n",
       "      <td>Manipur</td>\n",
       "    </tr>\n",
       "    <tr>\n",
       "      <th>22</th>\n",
       "      <td>ML</td>\n",
       "      <td>Meghalaya</td>\n",
       "    </tr>\n",
       "    <tr>\n",
       "      <th>23</th>\n",
       "      <td>MZ</td>\n",
       "      <td>Mizoram</td>\n",
       "    </tr>\n",
       "    <tr>\n",
       "      <th>24</th>\n",
       "      <td>NL</td>\n",
       "      <td>Nagaland</td>\n",
       "    </tr>\n",
       "    <tr>\n",
       "      <th>25</th>\n",
       "      <td>OR</td>\n",
       "      <td>Odisha</td>\n",
       "    </tr>\n",
       "    <tr>\n",
       "      <th>26</th>\n",
       "      <td>PY</td>\n",
       "      <td>Puducherry</td>\n",
       "    </tr>\n",
       "    <tr>\n",
       "      <th>27</th>\n",
       "      <td>PB</td>\n",
       "      <td>Punjab</td>\n",
       "    </tr>\n",
       "    <tr>\n",
       "      <th>28</th>\n",
       "      <td>RJ</td>\n",
       "      <td>Rajasthan</td>\n",
       "    </tr>\n",
       "    <tr>\n",
       "      <th>29</th>\n",
       "      <td>SK</td>\n",
       "      <td>Sikkim</td>\n",
       "    </tr>\n",
       "    <tr>\n",
       "      <th>30</th>\n",
       "      <td>TN</td>\n",
       "      <td>Tamil Nadu</td>\n",
       "    </tr>\n",
       "    <tr>\n",
       "      <th>31</th>\n",
       "      <td>TG</td>\n",
       "      <td>Telengana</td>\n",
       "    </tr>\n",
       "    <tr>\n",
       "      <th>32</th>\n",
       "      <td>TR</td>\n",
       "      <td>Tripura</td>\n",
       "    </tr>\n",
       "    <tr>\n",
       "      <th>33</th>\n",
       "      <td>UP</td>\n",
       "      <td>Uttar Pradesh</td>\n",
       "    </tr>\n",
       "    <tr>\n",
       "      <th>34</th>\n",
       "      <td>UT</td>\n",
       "      <td>Uttrakhand</td>\n",
       "    </tr>\n",
       "    <tr>\n",
       "      <th>35</th>\n",
       "      <td>WB</td>\n",
       "      <td>West Bengal</td>\n",
       "    </tr>\n",
       "  </tbody>\n",
       "</table>\n",
       "</div>"
      ],
      "text/plain": [
       "   Abbreviation                        State\n",
       "0            AN  Andaman and Nicobar Islands\n",
       "1            AP               Andhra Pradesh\n",
       "2            AR            Arunachal Pradesh\n",
       "3            AS                        Assam\n",
       "4            BR                        Bihar\n",
       "5            CH                   Chandigarh\n",
       "6            CT                  Chattisgarh\n",
       "7            DN       Dadea and Nagar Haveli\n",
       "8            DD                Daman and Diu\n",
       "9            DL                        Delhi\n",
       "10           GA                          Goa\n",
       "11           GJ                      Gujarat\n",
       "12           HR                      Haryana\n",
       "13           HP             Himachal Pradesh\n",
       "14           JK            Jammu and Kashmir\n",
       "15           JH                    Jharkhand\n",
       "16           KA                    Karnataka\n",
       "17           KL                       Kerala\n",
       "18           LD                  Lakshadweep\n",
       "19           MP               Madhya Pradesh\n",
       "20           MH                  Maharashtra\n",
       "21           MN                      Manipur\n",
       "22           ML                    Meghalaya\n",
       "23           MZ                      Mizoram\n",
       "24           NL                     Nagaland\n",
       "25           OR                       Odisha\n",
       "26           PY                   Puducherry\n",
       "27           PB                       Punjab\n",
       "28           RJ                    Rajasthan\n",
       "29           SK                       Sikkim\n",
       "30           TN                   Tamil Nadu\n",
       "31           TG                    Telengana\n",
       "32           TR                      Tripura\n",
       "33           UP                Uttar Pradesh\n",
       "34           UT                   Uttrakhand\n",
       "35           WB                  West Bengal"
      ]
     },
     "metadata": {},
     "output_type": "display_data"
    }
   ],
   "source": [
    "state={\"Abbreviation\":['AN','AP','AR','AS','BR','CH','CT','DN','DD','DL','GA','GJ','HR','HP','JK','JH','KA','KL','LD','MP','MH','MN','ML','MZ','NL','OR','PY','PB','RJ','SK','TN','TG','TR','UP','UT','WB'],\"State\":[\"Andaman and Nicobar Islands\",\"Andhra Pradesh\",\"Arunachal Pradesh\",\"Assam\",\"Bihar\",\"Chandigarh\",\"Chattisgarh\",\"Dadea and Nagar Haveli\",\"Daman and Diu\",\"Delhi\",\"Goa\",\"Gujarat\",\"Haryana\",\"Himachal Pradesh\",\"Jammu and Kashmir\",\"Jharkhand\",\"Karnataka\",\"Kerala\",\"Lakshadweep\",\"Madhya Pradesh\",\"Maharashtra\",\"Manipur\",\"Meghalaya\",\"Mizoram\",\"Nagaland\",\"Odisha\",\"Puducherry\",\"Punjab\",\"Rajasthan\",\"Sikkim\",\"Tamil Nadu\",\"Telengana\",\"Tripura\",\"Uttar Pradesh\",\"Uttrakhand\",\"West Bengal\"]}\n",
    "state_name=pd.DataFrame(state)\n",
    "#state_name\n",
    "display(HTML('<h1><center>COVID 19 PREDICTION FOR FUTURE DAYS</center></h1>'))\n",
    "display(state_name)"
   ]
  },
  {
   "cell_type": "code",
   "execution_count": 11,
   "metadata": {},
   "outputs": [],
   "source": [
    "#state_ab=input(\"ENTER THE STATE ABBREVIATION FROM ABOVE AN/GA/MH \")"
   ]
  },
  {
   "cell_type": "code",
   "execution_count": 12,
   "metadata": {},
   "outputs": [],
   "source": [
    "x=pd.datetime.now().year"
   ]
  },
  {
   "cell_type": "code",
   "execution_count": 13,
   "metadata": {},
   "outputs": [],
   "source": [
    "x=x%10"
   ]
  },
  {
   "cell_type": "code",
   "execution_count": 51,
   "metadata": {},
   "outputs": [],
   "source": [
    "def predict(Df,D_frame,state_ab):\n",
    "    Dat0={}\n",
    "    data0=json.loads(r.text)[state_ab]['dates']['2020-1{}-3{}'.format(2,1)]['total']['confirmed']\n",
    "    Data0=json.loads(r.text)[state_ab]['dates']['2020-1{}-3{}'.format(2,1)]['total']['deceased']\n",
    "    #data1=json.loads(r.text)['KL']['dates']\n",
    "    #print((data))\n",
    "    Dat0[Df.columns[0]]=str(['20201{}3{}'.format(2,1)])\n",
    "    Dat0[Df.columns[1]]=data0\n",
    "    Dat0[Df.columns[2]]=Data0\n",
    "    Df=Df.append(Dat0,ignore_index=True)\n",
    "    for y in range(x):\n",
    "        for k in range(9):\n",
    "            for i in range(9):\n",
    "                try:\n",
    "                    Dat={}\n",
    "               \n",
    "                \n",
    "                    data1=json.loads(r.text)[state_ab]['dates']['202{}-0{}-0{}'.format(y+1,k+1,i+1)]['total']['confirmed']\n",
    "                    Data1=json.loads(r.text)[state_ab]['dates']['202{}-0{}-0{}'.format(y+1,k+1,i+1)]['total']['deceased']\n",
    "            \n",
    "                    Dat[Df.columns[0]]=str('202{}/{}/{}'.format(y+1,k+1,i+1))\n",
    "               \n",
    "                    Dat[Df.columns[1]]=data1\n",
    "                    Dat[Df.columns[2]]=Data1\n",
    "                    Df=Df.append(Dat,ignore_index=True)\n",
    "                    D_frame=D_frame.append(Dat,ignore_index=True)\n",
    "            \n",
    "                except:\n",
    "                    continue\n",
    "            for j in range(22):\n",
    "                try:\n",
    "                    Dat2={}\n",
    "                    data2=json.loads(r.text)[state_ab]['dates']['202{}-0{}-{}'.format(y+1,k+1,j+10)]['total']['confirmed']\n",
    "                    Data2=json.loads(r.text)[state_ab]['dates']['202{}-0{}-{}'.format(y+1,k+1,j+10)]['total']['deceased']\n",
    "            \n",
    "                    Dat2[Df.columns[0]]=str('202{}/{}/{}'.format(y+1,k+1,j+10))\n",
    "               \n",
    "                    Dat2[Df.columns[1]]=data2\n",
    "                    Dat2[Df.columns[2]]=Data2\n",
    "                \n",
    "                    Df=Df.append(Dat2,ignore_index=True)\n",
    "                    D_frame=D_frame.append(Dat2,ignore_index=True)\n",
    "            \n",
    "                except:\n",
    "                    continue         \n",
    "        for k in range(3):\n",
    "            for i in range(9):\n",
    "                try:\n",
    "                    Dat={}\n",
    "               \n",
    "                \n",
    "                    data1=json.loads(r.text)[state_ab]['dates']['202{}-{}-0{}'.format(y+1,k+10,i+1)]['total']['confirmed']\n",
    "                    Data1=json.loads(r.text)[state_ab]['dates']['202{}-{}-0{}'.format(y+1,k+10,i+1)]['total']['deceased']\n",
    "           \n",
    "                    Dat[Df.columns[0]]=str('202{}/{}/{}'.format(y+1,k+10,i+1))\n",
    "               \n",
    "                    Dat[Df.columns[1]]=data1\n",
    "                    Dat[Df.columns[2]]=Data1\n",
    "                    Df=Df.append(Dat,ignore_index=True)\n",
    "                    D_frame=D_frame.append(Dat,ignore_index=True)\n",
    "            \n",
    "                except:\n",
    "                    continue\n",
    "            for j in range(22):\n",
    "                try:\n",
    "                    Dat2={}\n",
    "                    data2=json.loads(r.text)[state_ab]['dates']['202{}-{}-1{}'.format(y+1,k+10,j+10)]['total']['confirmed']\n",
    "                    Data2=json.loads(r.text)[state_ab]['dates']['202{}-{}-1{}'.format(y+1,k+10,j+10)]['total']['deceased']\n",
    "            \n",
    "                    Dat2[Df.columns[0]]=str('202{}/{}/{}'.format(y+1,k+10,j+10))\n",
    "               \n",
    "                    Dat2[Df.columns[1]]=data2\n",
    "                    Dat2[Df.columns[2]]=Data2\n",
    "                \n",
    "                    Df=Df.append(Dat2,ignore_index=True)\n",
    "                    D_frame=D_frame.append(Dat2,ignore_index=True)\n",
    "            \n",
    "                except:\n",
    "                    continue\n",
    "    D_frame=D_frame.rename(columns={\"total_confirmed\":\"active_cases\"})\n",
    "    D_frame=D_frame.rename(columns={\"total deceased\":\"daily_deaths\"}) \n",
    "    D_frame.loc[:,\"active_cases\"]=D_frame.loc[:,\"active_cases\"]- Df.loc[:,\"total_confirmed\"]\n",
    "    D_frame.loc[:,\"daily_deaths\"]=D_frame.loc[:,\"daily_deaths\"]- Df.loc[:,\"total deceased\"]\n",
    "    #active_cases_prediction_model\n",
    "    Df[\"active_cases\"]=D_frame[[\"active_cases\"]].copy()\n",
    "    Df.drop(labels=[\"dates\",\"total_confirmed\",\"total deceased\"],axis=1,inplace=True)\n",
    "    Df.dropna(inplace=True)\n",
    "    Df[\"Target_cases\"]=Df.active_cases.shift(-1)\n",
    "    Df.dropna(inplace=True)\n",
    "    def train_test_split(dat_frame,per):\n",
    "        dat_frame=dat_frame.values\n",
    "        l=int(len(dat_frame)*(1-per))\n",
    "        return dat_frame[:l],dat_frame[l:]\n",
    "    train,test=train_test_split(Df,0.2)\n",
    "    X1=train[:,:-1]\n",
    "    y1=train[:,-1]\n",
    "    X1_test=test[:,:-1]\n",
    "    y1_test=test[:,-1]\n",
    "    reg=XGBRegressor(n_estimators=700,learning_rate=0.01)\n",
    "    reg.fit(X1,y1,eval_set=[(X1,y1),(X1_test,y1_test)],eval_metric='rmse')\n",
    "    predictions=reg.predict(test[:,:-1])\n",
    "    #predictions\n",
    "    #deaths_prediction_model\n",
    "    Df[\"daily_deaths\"]=D_frame[[\"daily_deaths\"]].copy()\n",
    "    Df.drop(labels=[\"active_cases\",\"Target_cases\"],axis=1,inplace=True)\n",
    "    Df[\"Target_deaths\"]=Df.daily_deaths.shift(-1)\n",
    "    Df.dropna(inplace=True)\n",
    "    train2,test2=train_test_split(Df,0.2)\n",
    "    X2=train2[:,:-1]\n",
    "    y2=train2[:,-1]\n",
    "    X2_test=test[:,:-1]\n",
    "    y2_test=test[:,-1]\n",
    "    reg2=XGBRegressor(n_estimators=700,learning_rate=0.01)\n",
    "    reg2.fit(X2,y2,eval_set=[(X2,y2),(X2_test,y2_test)],eval_metric='rmse')\n",
    "    reg2=XGBRegressor(objective=\"reg:squarederror\",n_estimators=700)\n",
    "    reg2.fit(X2,y2)\n",
    "    predictionsd=reg2.predict(test2[:,:-1])\n",
    "    return(predictions,predictionsd)\n",
    "\n",
    "def display_pred(pred,predd):\n",
    "    display(HTML('<h5>Predictions for Active Cases</h5>'))\n",
    "    pred= pd.DataFrame({'Active Cases': pred})\n",
    "    display(pred)\n",
    "    display(HTML('<h5>Predictions for Death Cases</h5>'))\n",
    "    predd= pd.DataFrame({'Death Cases': predd})\n",
    "    display(predd)\n",
    "       "
   ]
  },
  {
   "cell_type": "code",
   "execution_count": 52,
   "metadata": {},
   "outputs": [
    {
     "data": {
      "application/vnd.jupyter.widget-view+json": {
       "model_id": "5464ca30aa7f4b78a6af6216ebf12816",
       "version_major": 2,
       "version_minor": 0
      },
      "text/plain": [
       "Text(value='', description='Abbreviation:', placeholder='Type something')"
      ]
     },
     "metadata": {},
     "output_type": "display_data"
    },
    {
     "data": {
      "application/vnd.jupyter.widget-view+json": {
       "model_id": "75cda1b669954fe7a6c94bb48bf781b8",
       "version_major": 2,
       "version_minor": 0
      },
      "text/plain": [
       "Button(description='Predict', style=ButtonStyle(), tooltip='Send')"
      ]
     },
     "metadata": {},
     "output_type": "display_data"
    },
    {
     "data": {
      "application/vnd.jupyter.widget-view+json": {
       "model_id": "036dd723b0e0404bb5827408fd14876f",
       "version_major": 2,
       "version_minor": 0
      },
      "text/plain": [
       "Output()"
      ]
     },
     "metadata": {},
     "output_type": "display_data"
    },
    {
     "data": {
      "application/vnd.jupyter.widget-view+json": {
       "model_id": "9b1f3d19ac3c442f88611f6acdc3be7c",
       "version_major": 2,
       "version_minor": 0
      },
      "text/plain": [
       "Output()"
      ]
     },
     "metadata": {},
     "output_type": "display_data"
    }
   ],
   "source": [
    "#display(Df)\n",
    "text=widgets.Text(\n",
    "   \n",
    "    placeholder='Type something',\n",
    "    description='Abbreviation:',\n",
    "    disabled=False\n",
    ")\n",
    "display(text)\n",
    "output = widgets.Output()\n",
    "output2 = widgets.Output()\n",
    "output3 = widgets.Output()\n",
    "\n",
    "button_send = widgets.Button(\n",
    "                description='Predict',\n",
    "                tooltip='Send',\n",
    "                style={'description_width': 'initial'}\n",
    "            )\n",
    "\n",
    "button_show = widgets.Button(\n",
    "                description='Show',\n",
    "                tooltip='Send',\n",
    "                style={'description_width': 'initial'}\n",
    "            )\n",
    "def on_button_clicked(event):\n",
    "    state_ab = f\"{text.value}\"\n",
    "    with output:\n",
    "        clear_output()\n",
    "        display(HTML('<h5>Wait for a while,,Model is training...........</h5>'))\n",
    "    pred,predd=predict(Df,D_frame,state_ab)    \n",
    "    with output2:\n",
    "        clear_output()\n",
    "        display(HTML('<h5>Showing Predictions</h5>'))\n",
    "        display_pred(pred,predd)\n",
    "    \n",
    "\n",
    "\n",
    "display(button_send)\n",
    "display(output)\n",
    "display(output2)\n",
    "button_send.on_click(on_button_clicked)"
   ]
  },
  {
   "cell_type": "code",
   "execution_count": 16,
   "metadata": {},
   "outputs": [],
   "source": [
    "#n_rows=Df.shape[0]\n",
    "#Df.dtypes"
   ]
  },
  {
   "cell_type": "code",
   "execution_count": 17,
   "metadata": {},
   "outputs": [],
   "source": [
    "#pd.set_option('display.max_rows',n_rows)\n",
    "\n"
   ]
  },
  {
   "cell_type": "code",
   "execution_count": 18,
   "metadata": {},
   "outputs": [],
   "source": [
    "#D_frame"
   ]
  },
  {
   "cell_type": "code",
   "execution_count": 19,
   "metadata": {},
   "outputs": [],
   "source": [
    "\n",
    "#rows=D_frame.shape[0]\n",
    "#pd.set_option('display.max_rows',rows)"
   ]
  },
  {
   "cell_type": "code",
   "execution_count": 20,
   "metadata": {},
   "outputs": [],
   "source": [
    "\n",
    "#D_frame"
   ]
  },
  {
   "cell_type": "code",
   "execution_count": null,
   "metadata": {},
   "outputs": [],
   "source": []
  },
  {
   "cell_type": "code",
   "execution_count": 21,
   "metadata": {},
   "outputs": [],
   "source": [
    "#D_frame\n",
    "#D_frame.dtypes\n",
    "#Df\n",
    "#test\n",
    "#y1\n",
    "#y1_test\n"
   ]
  },
  {
   "cell_type": "code",
   "execution_count": 22,
   "metadata": {},
   "outputs": [],
   "source": [
    "#from sklearn.metrics import mean_squared_error as mse\n",
    "#from math import sqrt\n",
    "#rmse=sqrt(mse(y1_test,predictions))"
   ]
  },
  {
   "cell_type": "code",
   "execution_count": 23,
   "metadata": {},
   "outputs": [],
   "source": [
    "#rmse"
   ]
  },
  {
   "cell_type": "markdown",
   "metadata": {},
   "source": []
  },
  {
   "cell_type": "code",
   "execution_count": null,
   "metadata": {},
   "outputs": [],
   "source": []
  },
  {
   "cell_type": "code",
   "execution_count": null,
   "metadata": {},
   "outputs": [],
   "source": []
  },
  {
   "cell_type": "code",
   "execution_count": null,
   "metadata": {},
   "outputs": [],
   "source": []
  },
  {
   "cell_type": "code",
   "execution_count": null,
   "metadata": {},
   "outputs": [],
   "source": []
  },
  {
   "cell_type": "code",
   "execution_count": null,
   "metadata": {},
   "outputs": [],
   "source": []
  },
  {
   "cell_type": "code",
   "execution_count": null,
   "metadata": {},
   "outputs": [],
   "source": []
  },
  {
   "cell_type": "code",
   "execution_count": null,
   "metadata": {},
   "outputs": [],
   "source": []
  },
  {
   "cell_type": "code",
   "execution_count": 24,
   "metadata": {},
   "outputs": [],
   "source": [
    "#"
   ]
  },
  {
   "cell_type": "code",
   "execution_count": 25,
   "metadata": {},
   "outputs": [],
   "source": [
    "#rmse=sqrt(mse(y2_test,predictions2))"
   ]
  }
 ],
 "metadata": {
  "kernelspec": {
   "display_name": "Python 3",
   "language": "python",
   "name": "python3"
  },
  "language_info": {
   "codemirror_mode": {
    "name": "ipython",
    "version": 3
   },
   "file_extension": ".py",
   "mimetype": "text/x-python",
   "name": "python",
   "nbconvert_exporter": "python",
   "pygments_lexer": "ipython3",
   "version": "3.9.8"
  }
 },
 "nbformat": 4,
 "nbformat_minor": 4
}
